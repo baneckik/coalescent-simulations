{
 "cells": [
  {
   "cell_type": "code",
   "execution_count": 2,
   "metadata": {},
   "outputs": [],
   "source": [
    "import numpy as np \n",
    "import pandas as pd\n",
    "from tqdm import tqdm\n",
    "import estimation_functions as efuns"
   ]
  },
  {
   "cell_type": "code",
   "execution_count": 4,
   "metadata": {},
   "outputs": [
    {
     "name": "stderr",
     "output_type": "stream",
     "text": [
      "100%|██████████| 499/499 [00:04<00:00, 117.82it/s]\n"
     ]
    }
   ],
   "source": [
    "theta = 1\n",
    "M = 200\n",
    "number_of_processes = 50\n",
    "file_name = \"interval_comparison_lambda2\"\n",
    "\n",
    "data = pd.DataFrame(columns=[\"mean_exp\", \"std_exp\", \"mean_lln\", \"std_lln\"])\n",
    "\n",
    "for lam in tqdm(np.arange(0.02, 10, 0.02)):\n",
    "    exp = []\n",
    "    lln = []\n",
    "    \n",
    "    lln_uni = []\n",
    "    lln_beta = []\n",
    "    exp_uni = []\n",
    "    exp_beta = []\n",
    "    for i in range(number_of_processes):\n",
    "        # generating Kingman coalescence times\n",
    "        intervals = efuns.generate_kingman_intervals(M, theta, lam)\n",
    "        lln.append(efuns.estimate_theta_lln_from_intervals(intervals))\n",
    "        exp.append(efuns.estimate_theta_exp_from_intervals(intervals))\n",
    "        \n",
    "    data.loc[lam*50-1] = [np.mean(exp), np.std(exp), np.mean(lln), np.std(lln)]\n",
    "    \n",
    "data.to_csv(\"./data/\"+file_name+\".csv\", index=False, header=True)"
   ]
  }
 ],
 "metadata": {
  "kernelspec": {
   "display_name": "Python 3",
   "language": "python",
   "name": "python3"
  },
  "language_info": {
   "codemirror_mode": {
    "name": "ipython",
    "version": 3
   },
   "file_extension": ".py",
   "mimetype": "text/x-python",
   "name": "python",
   "nbconvert_exporter": "python",
   "pygments_lexer": "ipython3",
   "version": "3.7.3"
  }
 },
 "nbformat": 4,
 "nbformat_minor": 2
}
